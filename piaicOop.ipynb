{
 "cells": [
  {
   "cell_type": "code",
   "execution_count": null,
   "metadata": {},
   "outputs": [],
   "source": []
  },
  {
   "cell_type": "code",
   "execution_count": 8,
   "metadata": {},
   "outputs": [
    {
     "name": "stdout",
     "output_type": "stream",
     "text": [
      "Your registered course  name is Maths\n"
     ]
    }
   ],
   "source": [
    "class Subject:\n",
    "    def __init__(self,Subjectname):\n",
    "        self.Subjectname = Subjectname\n",
    "    \n",
    "    def yourName(self):\n",
    "        print(f\"Your registered course  name is {self.Subjectname}\")\n",
    "\n",
    "\n",
    "\n",
    "sb=Subject(\"Maths\")\n",
    "sb.yourName()\n",
    "\n",
    "\n",
    "\n"
   ]
  },
  {
   "cell_type": "code",
   "execution_count": 9,
   "metadata": {},
   "outputs": [
    {
     "name": "stdout",
     "output_type": "stream",
     "text": [
      "Student name is Sufiyan \n",
      "Student Registration Number is 22 \n",
      "Studdent Register Subject is Maths \n"
     ]
    }
   ],
   "source": [
    "class Student(Subject):\n",
    "    def __init__(self,name , regNo, Subjectname):\n",
    "        super().__init__(Subjectname)\n",
    "        self.name = name\n",
    "        self.regNo = regNo\n",
    "    \n",
    "    def emp(self):\n",
    "        print(f\"Student name is {self.name} \\nStudent Registration Number is {self.regNo} \\nStuddent Register Subject is {self.Subjectname} \")\n",
    "\n",
    "\n",
    "stu = Student(\"Sufiyan\" ,22, \"Maths\")\n",
    "stu.emp()\n",
    "\n",
    "\n",
    "\n",
    "        \n",
    "\n"
   ]
  },
  {
   "cell_type": "code",
   "execution_count": 7,
   "metadata": {},
   "outputs": [
    {
     "name": "stdout",
     "output_type": "stream",
     "text": [
      "Animation Artist\n",
      "['python']\n"
     ]
    }
   ],
   "source": [
    "from typing import List\n",
    "\n",
    "class Employee:\n",
    "    def __init__(self, name: str) -> None:\n",
    "        self.name: str = name\n",
    "        self.education: str = \"\"\n",
    "        self.department: str = \"\"\n",
    "\n",
    "class Designer(Employee):\n",
    "    def __init__(self, title: str, name: str) -> None:\n",
    "        super().__init__(name)\n",
    "        self.title: str = title\n",
    "\n",
    "class Developer(Employee):\n",
    "    def __init__(self, title: str, name: str) -> None:\n",
    "        super().__init__(name)\n",
    "        self.title: str = title\n",
    "        self.programming_skills: List[str] = [\"python\"]\n",
    "\n",
    "designer1: Designer = Designer(\"Animation Artist\", \"Asif Khan\")\n",
    "dev1: Developer = Developer(\"GenAI Engineer\", \"John Doe\")\n",
    "\n",
    "print(designer1.title)  # Output: Animation Artist\n",
    "print(dev1.programming_skills)  # Output: ['python']"
   ]
  }
 ],
 "metadata": {
  "kernelspec": {
   "display_name": "Python 3",
   "language": "python",
   "name": "python3"
  },
  "language_info": {
   "codemirror_mode": {
    "name": "ipython",
    "version": 3
   },
   "file_extension": ".py",
   "mimetype": "text/x-python",
   "name": "python",
   "nbconvert_exporter": "python",
   "pygments_lexer": "ipython3",
   "version": "3.11.4"
  }
 },
 "nbformat": 4,
 "nbformat_minor": 2
}
